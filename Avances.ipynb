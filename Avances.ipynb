{
 "cells": [
  {
   "cell_type": "markdown",
   "metadata": {},
   "source": [
    "## Avances por Final y por Ejercicio:\n"
   ]
  },
  {
   "cell_type": "markdown",
   "metadata": {},
   "source": [
    "### Resumen\n",
    "\n",
    "| FINAL    | EJERCICIO 1 | EJERCICIO 2 | EJERCICIO 3 |\n",
    "|----------|-------------|-------------|-------------|\n",
    "| 20230726 | pendiente   | pendiente   | pendiente   |\n",
    "| 20230927 | pendiente   | pendiente   | pendiente   |\n",
    "| 20240513 | pendiente   | pendiente   | pendiente   |\n"
   ]
  },
  {
   "cell_type": "markdown",
   "metadata": {},
   "source": [
    "### Final 20230726\n",
    "* Ejercicio 1: \n",
    "    * <u>ítem a</u>: ok para corregir\n",
    "    * <u>ítem b</u>: ok para corregir\n",
    "    * <u>ítem c</u>: revisar simulación en LTSpice. si la simulación está ok, se debe revisar el cálculo de componentes porque no verifica\n",
    "    * <u>ítem d</u>: revisar manuscrito y simulación para $S_{C_1}^{\\omega_0}$\n",
    "    * <u>ítem e</u>: revisar simulación en LTSpice. si la simulación está ok, se debe revisar el cálculo de componentes porque no verifica\n",
    "\n",
    "* Ejercicio 2: \n",
    "* Ejercicio 3: "
   ]
  },
  {
   "cell_type": "markdown",
   "metadata": {},
   "source": [
    "### Final 20230927\n",
    "* Ejercicio 1: \n",
    "    * tips Mariano para resolución:\n",
    "        * $|S21|^{2}$ debería ser $1-|S11|^{2}$ y es aprox una constante\n",
    "        * simular en LTSpice\n",
    "        * probar interconexión de cuadripolos\n",
    "* Ejercicio 2: \n",
    "* Ejercicio 3: \n",
    "    * <u>ítem *i*</u>: ok para corregir\n",
    "    * <u>ítem *ii*</u>: hacer gráficos\n",
    "    * <u>ítem *iii*</u>: ok para corregir\n"
   ]
  },
  {
   "cell_type": "markdown",
   "metadata": {},
   "source": [
    "### Final 20240513\n",
    "* Ejercicio 1: \n",
    "* Ejercicio 2: \n",
    "    * <u>ítem a</u>: adjuntar manuscritos\n",
    "    * <u>ítem b</u>: adjuntar manuscritos\n",
    "    * <u>ítem c</u>: adjuntar manuscritos\n",
    "    * <u>ítem d</u>: ok para corregir\n",
    "* Ejercicio 3: "
   ]
  },
  {
   "cell_type": "markdown",
   "metadata": {},
   "source": [
    "# Correcciones de Mariano\n",
    "\n",
    "### Final 20240513\n",
    "\n",
    "Ejercicio 1: \n",
    "\n",
    "Ejercicio 2: \n",
    "\n",
    "Ejercicio 3: \n",
    "\n",
    "### Final 20230927\n",
    "\n",
    "Ejercicio 1: \n",
    "\n",
    "Ejercicio 2: \n",
    "\n",
    "Ejercicio 3: \n",
    "\n",
    "### Final 20230726\n",
    "\n",
    "Ejercicio 1: \n",
    "\n",
    "Ejercicio 2: \n",
    "\n",
    "Ejercicio 3:"
   ]
  }
 ],
 "metadata": {
  "kernelspec": {
   "display_name": "Python 3",
   "language": "python",
   "name": "python3"
  },
  "language_info": {
   "codemirror_mode": {
    "name": "ipython",
    "version": 3
   },
   "file_extension": ".py",
   "mimetype": "text/x-python",
   "name": "python",
   "nbconvert_exporter": "python",
   "pygments_lexer": "ipython3",
   "version": "3.11.9"
  }
 },
 "nbformat": 4,
 "nbformat_minor": 2
}
